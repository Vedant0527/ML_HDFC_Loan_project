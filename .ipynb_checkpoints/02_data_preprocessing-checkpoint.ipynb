{
 "cells": [
  {
   "cell_type": "code",
   "execution_count": 1,
   "id": "681cb044-7cb0-4584-97b1-c9823d91cd55",
   "metadata": {},
   "outputs": [
    {
     "name": "stdout",
     "output_type": "stream",
     "text": [
      "✅ Dataset loaded: (4269, 13)\n",
      "✅ Columns: ['loan_id', 'no_of_dependents', 'education', 'self_employed', 'income_annum', 'loan_amount', 'loan_term', 'cibil_score', 'residential_assets_value', 'commercial_assets_value', 'luxury_assets_value', 'bank_asset_value', 'loan_status']\n"
     ]
    }
   ],
   "source": [
    "\n",
    "import pandas as pd\n",
    "import numpy as np\n",
    "import matplotlib.pyplot as plt\n",
    "import seaborn as sns\n",
    "from sklearn.preprocessing import LabelEncoder, StandardScaler\n",
    "from sklearn.model_selection import train_test_split\n",
    "import warnings\n",
    "warnings.filterwarnings('ignore')\n",
    "\n",
    "# Load your data (use the same path as Day 1)\n",
    "import kagglehub\n",
    "import os\n",
    "\n",
    "path = kagglehub.dataset_download(\"architsharma01/loan-approval-prediction-dataset\")\n",
    "csv_file = [f for f in os.listdir(path) if f.endswith(\".csv\")][0]\n",
    "csv_path = os.path.join(path, csv_file)\n",
    "\n",
    "df = pd.read_csv(csv_path)\n",
    "df.columns = df.columns.str.strip()  # Fix column names\n",
    "\n",
    "print(f\"✅ Dataset loaded: {df.shape}\")\n",
    "print(f\"✅ Columns: {list(df.columns)}\")\n"
   ]
  },
  {
   "cell_type": "code",
   "execution_count": 2,
   "id": "ed208dbf-1298-4d8e-a0ec-9cde1403c788",
   "metadata": {},
   "outputs": [
    {
     "name": "stdout",
     "output_type": "stream",
     "text": [
      "Missing values: 0\n",
      "✅ Missing values after: 0\n"
     ]
    }
   ],
   "source": [
    "df_clean = df.copy()\n",
    "missing_before = df_clean.isnull().sum()\n",
    "print(f\"Missing values: {missing_before.sum()}\")\n",
    "\n",
    "categorical_cols = df_clean.select_dtypes(include=['object']).columns\n",
    "for col in categorical_cols:\n",
    "    if df_clean[col].isnull().sum() > 0:\n",
    "        df_clean[col].fillna(df_clean[col].mode()[0], inplace=True)\n",
    "\n",
    "numerical_cols = df_clean.select_dtypes(include=[np.number]).columns\n",
    "for col in numerical_cols:\n",
    "    if df_clean[col].isnull().sum() > 0:\n",
    "        df_clean[col].fillna(df_clean[col].median(), inplace=True)\n",
    "\n",
    "print(f\"✅ Missing values after: {df_clean.isnull().sum().sum()}\")\n"
   ]
  },
  {
   "cell_type": "code",
   "execution_count": 3,
   "id": "889d0d34-9b25-4468-9711-0eccbe512398",
   "metadata": {},
   "outputs": [
    {
     "name": "stdout",
     "output_type": "stream",
     "text": [
      "✅ Features engineered. New shape: (4269, 15)\n"
     ]
    }
   ],
   "source": [
    "if 'income_annum' in df_clean.columns and 'loan_amount' in df_clean.columns:\n",
    "    df_clean['income_to_loan_ratio'] = df_clean['income_annum'] / df_clean['loan_amount']\n",
    "    df_clean['income_to_loan_ratio'].replace([np.inf, -np.inf], 0, inplace=True)\n",
    "\n",
    "if 'residential_assets_value' in df_clean.columns:\n",
    "    df_clean['total_assets'] = (df_clean['residential_assets_value'] + \n",
    "                               df_clean['commercial_assets_value'] + \n",
    "                               df_clean['luxury_assets_value'])\n",
    "\n",
    "print(f\"✅ Features engineered. New shape: {df_clean.shape}\")\n"
   ]
  },
  {
   "cell_type": "code",
   "execution_count": 4,
   "id": "5ed979e5-3224-4c0d-981e-5af02816cf48",
   "metadata": {},
   "outputs": [
    {
     "name": "stdout",
     "output_type": "stream",
     "text": [
      "✅ Categorical encoding complete\n"
     ]
    }
   ],
   "source": [
    "df_encoded = df_clean.copy()\n",
    "label_encoders = {}\n",
    "\n",
    "categorical_cols = df_encoded.select_dtypes(include=['object']).columns.tolist()\n",
    "target_col = 'loan_status'\n",
    "if target_col in categorical_cols:\n",
    "    categorical_cols.remove(target_col)\n",
    "\n",
    "for col in categorical_cols:\n",
    "    le = LabelEncoder()\n",
    "    df_encoded[col] = le.fit_transform(df_encoded[col])\n",
    "    label_encoders[col] = le\n",
    "\n",
    "target_encoder = LabelEncoder()\n",
    "df_encoded[target_col] = target_encoder.fit_transform(df_encoded[target_col])\n",
    "label_encoders[target_col] = target_encoder\n",
    "\n",
    "print(f\"✅ Categorical encoding complete\")\n"
   ]
  },
  {
   "cell_type": "code",
   "execution_count": 5,
   "id": "a7d1b86c-a39c-4055-9880-52b7c70caf0f",
   "metadata": {},
   "outputs": [
    {
     "name": "stdout",
     "output_type": "stream",
     "text": [
      "✅ Data split: Train (3415, 13), Test (854, 13)\n",
      "✅ Files saved to data/processed/\n"
     ]
    }
   ],
   "source": [
    "columns_to_remove = ['loan_id']\n",
    "df_ml = df_encoded.drop(columns=[col for col in columns_to_remove if col in df_encoded.columns])\n",
    "\n",
    "X = df_ml.drop([target_col], axis=1)\n",
    "y = df_ml[target_col]\n",
    "\n",
    "X_train, X_test, y_train, y_test = train_test_split(X, y, test_size=0.2, random_state=42, stratify=y)\n",
    "\n",
    "os.makedirs('data/processed', exist_ok=True)\n",
    "X_train.to_csv('data/processed/X_train.csv', index=False)\n",
    "X_test.to_csv('data/processed/X_test.csv', index=False)\n",
    "pd.Series(y_train).to_csv('data/processed/y_train.csv', index=False)\n",
    "pd.Series(y_test).to_csv('data/processed/y_test.csv', index=False)\n",
    "\n",
    "print(f\"✅ Data split: Train {X_train.shape}, Test {X_test.shape}\")\n",
    "print(f\"✅ Files saved to data/processed/\")\n"
   ]
  },
  {
   "cell_type": "code",
   "execution_count": null,
   "id": "237cfcc0-4203-4f82-833e-b973fbf5ad12",
   "metadata": {},
   "outputs": [],
   "source": []
  }
 ],
 "metadata": {
  "kernelspec": {
   "display_name": "Python 3 (ipykernel)",
   "language": "python",
   "name": "python3"
  },
  "language_info": {
   "codemirror_mode": {
    "name": "ipython",
    "version": 3
   },
   "file_extension": ".py",
   "mimetype": "text/x-python",
   "name": "python",
   "nbconvert_exporter": "python",
   "pygments_lexer": "ipython3",
   "version": "3.13.3"
  }
 },
 "nbformat": 4,
 "nbformat_minor": 5
}
