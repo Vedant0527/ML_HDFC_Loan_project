{
 "cells": [
  {
   "cell_type": "code",
   "execution_count": 1,
   "id": "85e0ff07-db69-404a-9892-504ff60a19e5",
   "metadata": {},
   "outputs": [
    {
     "name": "stdout",
     "output_type": "stream",
     "text": [
      "BUSINESS IMPACT ANALYSIS\n",
      "Model Accuracy: 99.65%\n",
      "Correctly classified: 851/854\n",
      "Potential bad loan losses: ₹0\n",
      "Missed opportunities: ₹1,500,000\n",
      "Processing cost savings: ₹384,300\n",
      "Net business benefit: ₹-1,115,700\n"
     ]
    }
   ],
   "source": [
    "import pandas as pd\n",
    "import numpy as np\n",
    "import joblib\n",
    "import matplotlib.pyplot as plt\n",
    "from sklearn.metrics import confusion_matrix\n",
    "\n",
    "# Load model and data\n",
    "best_model = joblib.load('models/random_forest_model.pkl')\n",
    "X_test = pd.read_csv('data/processed/X_test.csv')\n",
    "y_test = pd.read_csv('data/processed/y_test.csv').iloc[:, 0]\n",
    "\n",
    "y_pred = best_model.predict(X_test)\n",
    "cm = confusion_matrix(y_test, y_pred)\n",
    "tn, fp, fn, tp = cm.ravel()\n",
    "\n",
    "# Business calculations\n",
    "avg_loan_amount = 25000000  # ₹2.5 Cr\n",
    "default_rate = 0.05\n",
    "loss_per_default = avg_loan_amount * 0.70\n",
    "opportunity_cost = avg_loan_amount * 0.02\n",
    "processing_savings = len(y_test) * 450\n",
    "\n",
    "potential_loss = fp * default_rate * loss_per_default\n",
    "opportunity_loss = fn * opportunity_cost\n",
    "net_benefit = processing_savings - potential_loss - opportunity_loss\n",
    "\n",
    "print(\"BUSINESS IMPACT ANALYSIS\")\n",
    "print(f\"Model Accuracy: 99.65%\")\n",
    "print(f\"Correctly classified: {tp + tn}/{len(y_test)}\")\n",
    "print(f\"Potential bad loan losses: ₹{potential_loss:,.0f}\")\n",
    "print(f\"Missed opportunities: ₹{opportunity_loss:,.0f}\")\n",
    "print(f\"Processing cost savings: ₹{processing_savings:,.0f}\")\n",
    "print(f\"Net business benefit: ₹{net_benefit:,.0f}\")"
   ]
  },
  {
   "cell_type": "code",
   "execution_count": null,
   "id": "37883908-441e-40b5-9b36-47ab2c4a27d7",
   "metadata": {},
   "outputs": [],
   "source": []
  }
 ],
 "metadata": {
  "kernelspec": {
   "display_name": "Python 3 (ipykernel)",
   "language": "python",
   "name": "python3"
  },
  "language_info": {
   "codemirror_mode": {
    "name": "ipython",
    "version": 3
   },
   "file_extension": ".py",
   "mimetype": "text/x-python",
   "name": "python",
   "nbconvert_exporter": "python",
   "pygments_lexer": "ipython3",
   "version": "3.13.3"
  }
 },
 "nbformat": 4,
 "nbformat_minor": 5
}
